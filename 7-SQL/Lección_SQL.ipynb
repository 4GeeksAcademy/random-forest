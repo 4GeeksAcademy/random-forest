{
  "cells": [
    {
      "cell_type": "markdown",
      "id": "eeae93fe",
      "metadata": {
        "id": "eeae93fe"
      },
      "source": [
        "# Previo\n",
        "- Instalar MySQL Server: https://dev.mysql.com/downloads/windows/installer/8.0.html\n",
        "- Instalar MySQL Workbench: https://dev.mysql.com/downloads/windows/installer/8.0.html\n",
        "- Instalar e importar MySQL en Python (abajo):"
      ]
    },
    {
      "cell_type": "code",
      "execution_count": null,
      "id": "0f9e8f2f",
      "metadata": {
        "id": "0f9e8f2f",
        "outputId": "4beaf6cc-c54c-4459-8035-34bd69d3068d"
      },
      "outputs": [
        {
          "name": "stdout",
          "output_type": "stream",
          "text": [
            "Requirement already satisfied: pymysql in c:\\users\\ffer2\\anaconda3\\lib\\site-packages (1.1.0)\n"
          ]
        }
      ],
      "source": [
        "!pip install pymysql"
      ]
    },
    {
      "cell_type": "code",
      "execution_count": null,
      "id": "9dcf654a",
      "metadata": {
        "id": "9dcf654a"
      },
      "outputs": [],
      "source": [
        "import pymysql"
      ]
    },
    {
      "cell_type": "markdown",
      "id": "5179f278",
      "metadata": {
        "id": "5179f278"
      },
      "source": [
        "# Establecer conexión con el servidor MySQL\n",
        "\n",
        "Proporcionar los detalles de la conexión: Nombre de usuario, contraseña, host y puerto."
      ]
    },
    {
      "cell_type": "code",
      "execution_count": null,
      "id": "e10040f9",
      "metadata": {
        "id": "e10040f9"
      },
      "outputs": [],
      "source": [
        "usuario = 'root'\n",
        "pwd = 'admin'\n",
        "host = 'localhost'\n",
        "puerto = 3306 # El puerto por defecto de MySQL es 3306\n",
        "\n",
        "# Inicia la conexión con el servidor\n",
        "conexion = pymysql.connect(\n",
        "    host=host,\n",
        "    user=usuario,\n",
        "    password=pwd,\n",
        "    port=puerto\n",
        ")\n",
        "\n",
        "# Crea el objeto cursor para ejecutar comandos SQL\n",
        "cursor = conexion.cursor()"
      ]
    },
    {
      "cell_type": "markdown",
      "id": "2e4cab40",
      "metadata": {
        "id": "2e4cab40"
      },
      "source": [
        "# Crear la base de datos"
      ]
    },
    {
      "cell_type": "code",
      "execution_count": null,
      "id": "42767884",
      "metadata": {
        "id": "42767884",
        "outputId": "4bdceaed-b5e6-4c42-e19e-31183cc7c912"
      },
      "outputs": [
        {
          "data": {
            "text/plain": [
              "1"
            ]
          },
          "execution_count": 5,
          "metadata": {},
          "output_type": "execute_result"
        }
      ],
      "source": [
        "nombre_base_de_datos = 'aeropuerto_inventado'\n",
        "cursor.execute(f\"CREATE DATABASE {nombre_base_de_datos};\")"
      ]
    },
    {
      "cell_type": "markdown",
      "id": "32f31580",
      "metadata": {
        "id": "32f31580"
      },
      "source": [
        "# Confirmar las transacciones realizadas y cerrar sesión\n",
        "\n",
        "El uso del método commit() es esencial para confirmar y guardar las transacciones en la base de datos (las modificaciones no se guardan automáticamente en la base de datos en el momento en que se realizan, sino que deben confirmarse explícitamente). Sin él, las transacciones no se completarán correctamente y los cambios no se guardarán en la base de datos de manera adecuada."
      ]
    },
    {
      "cell_type": "code",
      "execution_count": null,
      "id": "5484b83a",
      "metadata": {
        "id": "5484b83a"
      },
      "outputs": [],
      "source": [
        "conexion.commit()\n",
        "conexion.close()"
      ]
    },
    {
      "cell_type": "markdown",
      "id": "31784862",
      "metadata": {
        "id": "31784862"
      },
      "source": [
        "# Establece conexión nuevamente y crear la tabla vuelos, la cual contendrá información acerca de los vuelos del aeropuerto:\n",
        "\n",
        "- numero_vuelo: Número de vuelo único que sirve como identificador principal (clave primaria) de la tabla.\n",
        "- origen y destino: Columnas de texto (VARCHAR) para almacenar el origen y el destino del vuelo.\n",
        "- fecha_salida y fecha_llegada: Columnas de tipo DATETIME para almacenar las fechas y horas de salida y llegada del vuelo.\n",
        "- duracion_total_minutos: Un entero (INT) que almacena la duración total del vuelo en minutos.\n",
        "- tiene_escala: Una columna BOOLEAN que indica si el vuelo tiene o no una escala.\n",
        "- duracion_escala_minutos: Un entero (INT) que almacena la duración de la escala en minutos si la hay.\n",
        "- compania_operadora: Una columna de texto (VARCHAR) para almacenar el nombre de la compañía que opera el vuelo.\n",
        "- num_pasajeros: Un entero (INT) que representa el número de pasajeros que irán en el avión.\n",
        "- num_plazas_libres: Un entero (INT) que representa el número de plazas libres en el avión."
      ]
    },
    {
      "cell_type": "code",
      "execution_count": null,
      "id": "05350fba",
      "metadata": {
        "id": "05350fba"
      },
      "outputs": [],
      "source": [
        "usuario = 'root'\n",
        "pwd = 'admin'\n",
        "host = 'localhost'\n",
        "puerto = 3306\n",
        "nombre_base_de_datos = 'aeropuerto_inventado'\n",
        "\n",
        "# Establecer conexión a la base de datos\n",
        "conexion = pymysql.connect(\n",
        "    host=host,\n",
        "    user=usuario,\n",
        "    password=pwd,\n",
        "    database=nombre_base_de_datos\n",
        ")\n",
        "\n",
        "# Crear un cursor para ejecutar comandos SQL\n",
        "cursor = conexion.cursor()"
      ]
    },
    {
      "cell_type": "code",
      "execution_count": null,
      "id": "15b6692b",
      "metadata": {
        "id": "15b6692b",
        "outputId": "2ca2643c-9e2b-4990-ec5b-c6803e72a5f7"
      },
      "outputs": [
        {
          "name": "stdout",
          "output_type": "stream",
          "text": [
            "Tabla de vuelos creada exitosamente.\n"
          ]
        }
      ],
      "source": [
        "# Consulta SQL para crear la tabla de vuelos\n",
        "crear_tabla_vuelos = \"\"\"\n",
        "CREATE TABLE IF NOT EXISTS vuelos (\n",
        "    numero_vuelo INT PRIMARY KEY,\n",
        "    origen VARCHAR(255),\n",
        "    destino VARCHAR(255),\n",
        "    fecha_salida DATETIME,\n",
        "    fecha_llegada DATETIME,\n",
        "    duracion_total_minutos INT,\n",
        "    tiene_escala BOOLEAN,\n",
        "    duracion_escala_minutos INT,\n",
        "    compania_operadora VARCHAR(255),\n",
        "    num_pasajeros INT,\n",
        "    num_plazas_libres INT\n",
        ");\n",
        "\"\"\"\n",
        "\n",
        "# Ejecutar la consulta SQL\n",
        "cursor.execute(crear_tabla_vuelos)\n",
        "\n",
        "# Confirmar la transacción y cerrar la conexión\n",
        "conexion.commit()\n",
        "\n",
        "print(\"Tabla de vuelos creada exitosamente.\")"
      ]
    },
    {
      "cell_type": "markdown",
      "id": "5e5ea65a",
      "metadata": {
        "id": "5e5ea65a"
      },
      "source": [
        "# Modifica la tabla vuelos para incluir una columna que almacene la ID del piloto y otra que indique si el vuelo es de salida o de llegada:\n",
        "\n",
        "- Necesitamos hacer un ALTER TABLE para incluir la columna id_piloto de tipo INT y tipo_vuelo de tipo ENUM con dos opciones ('Salida' o 'Llegada')."
      ]
    },
    {
      "cell_type": "code",
      "execution_count": null,
      "id": "1b6a55c0",
      "metadata": {
        "id": "1b6a55c0"
      },
      "outputs": [],
      "source": [
        "# Consulta SQL para agregar las columnas id_piloto y tipo_vuelo\n",
        "alterar_tabla_vuelos = \"\"\"\n",
        "ALTER TABLE vuelos\n",
        "ADD COLUMN id_piloto INT,\n",
        "ADD COLUMN tipo_vuelo ENUM('Salida', 'Llegada');\n",
        "\"\"\"\n",
        "\n",
        "# Ejecutar la consulta SQL\n",
        "cursor.execute(alterar_tabla_vuelos)\n",
        "\n",
        "# Confirmar la transacción\n",
        "conexion.commit()"
      ]
    },
    {
      "cell_type": "markdown",
      "id": "5952d24a",
      "metadata": {
        "id": "5952d24a"
      },
      "source": [
        "# Crea la tabla pilotos con las siguientes columnas:\n",
        "\n",
        "- ID del Piloto: Un identificador único para cada piloto (clave primaria autoincremental).\n",
        "- Nombre: El nombre completo del piloto.\n",
        "- Número de Licencia: El número de licencia de piloto del piloto (no se repite).\n",
        "- Fecha de Nacimiento: La fecha de nacimiento del piloto.\n",
        "- Nacionalidad: La nacionalidad del piloto.\n",
        "- Experiencia: Número total de horas de vuelo.\n",
        "- Contacto: Información de contacto del piloto.\n",
        "- Fecha de Contratación: La fecha en que el piloto fue contratado por la aerolínea.\n",
        "- Salario: El salario o la tarifa que se paga al piloto por sus servicios.\n",
        "- Estado de Empleo: Si el piloto está actualmente empleado, en licencia o de baja."
      ]
    },
    {
      "cell_type": "code",
      "execution_count": null,
      "id": "069720a1",
      "metadata": {
        "id": "069720a1"
      },
      "outputs": [],
      "source": [
        "# Consulta SQL para crear la tabla de pilotos\n",
        "crear_tabla_pilotos = \"\"\"\n",
        "CREATE TABLE IF NOT EXISTS pilotos (\n",
        "    ID_Piloto INT AUTO_INCREMENT PRIMARY KEY,\n",
        "    Nombre VARCHAR(255) NOT NULL,\n",
        "    Numero_de_Licencia VARCHAR(255) UNIQUE NOT NULL,\n",
        "    Fecha_de_Nacimiento DATE,\n",
        "    Nacionalidad VARCHAR(255),\n",
        "    Experiencia INT,\n",
        "    Contacto VARCHAR(255),\n",
        "    Fecha_de_Contratacion DATE,\n",
        "    Salario DECIMAL(10, 2),\n",
        "    Estado_de_Empleo ENUM('Empleado', 'Licencia', 'Baja') NOT NULL\n",
        ");\n",
        "\"\"\"\n",
        "\n",
        "# Ejecutar la consulta SQL\n",
        "cursor.execute(crear_tabla_pilotos)\n",
        "\n",
        "# Confirmar la transacción\n",
        "conexion.commit()"
      ]
    },
    {
      "cell_type": "markdown",
      "id": "7c77838c",
      "metadata": {
        "id": "7c77838c"
      },
      "source": [
        "# Altera la tabla vuelos para indicar que la columna id_piloto es una clave foránea"
      ]
    },
    {
      "cell_type": "code",
      "execution_count": null,
      "id": "806226ee",
      "metadata": {
        "id": "806226ee"
      },
      "outputs": [],
      "source": [
        "# Consulta SQL para agregar la columna id_piloto como clave foránea\n",
        "agregar_fk_id_piloto = \"\"\"\n",
        "ALTER TABLE vuelos\n",
        "ADD FOREIGN KEY (id_piloto) REFERENCES pilotos(ID_Piloto);\n",
        "\"\"\"\n",
        "\n",
        "# Ejecutar la consulta SQL\n",
        "cursor.execute(agregar_fk_id_piloto)\n",
        "\n",
        "# Confirmar la transacción\n",
        "conexion.commit()"
      ]
    },
    {
      "cell_type": "markdown",
      "id": "ff4e88f8",
      "metadata": {
        "id": "ff4e88f8"
      },
      "source": [
        "# Inserta al menos tres pilotos en la tabla pilotos:\n",
        "\n",
        "La notación %(nombre_columna)s se utiliza en Python para definir marcadores de posición en una cadena de formato y se usa comúnmente con diccionarios para asignar valores a esos marcadores de posición. Los valores en el diccionario se asignan a los marcadores de posición en la consulta SQL, de modo que los datos se insertan correctamente en la base de datos."
      ]
    },
    {
      "cell_type": "code",
      "execution_count": null,
      "id": "989c24e0",
      "metadata": {
        "id": "989c24e0",
        "outputId": "63d5a7bd-4ee1-47e7-e072-ec72443c8eb6"
      },
      "outputs": [
        {
          "name": "stdout",
          "output_type": "stream",
          "text": [
            "Los pilotos han sido insertados exitosamente en la tabla pilotos.\n"
          ]
        }
      ],
      "source": [
        "# Datos de los pilotos que deseas insertar\n",
        "piloto1 = {\n",
        "    'Nombre': 'Piloto 1',\n",
        "    'Numero_de_Licencia': 'Licencia1',\n",
        "    'Fecha_de_Nacimiento': '1990-01-01',\n",
        "    'Nacionalidad': 'Nacionalidad1',\n",
        "    'Experiencia': 5000,\n",
        "    'Contacto': 'piloto1@example.com',\n",
        "    'Fecha_de_Contratacion': '2023-01-15',\n",
        "    'Salario': 50000.00,\n",
        "    'Estado_de_Empleo': 'Empleado'\n",
        "}\n",
        "\n",
        "piloto2 = {\n",
        "    'Nombre': 'Piloto 2',\n",
        "    'Numero_de_Licencia': 'Licencia2',\n",
        "    'Fecha_de_Nacimiento': '1985-03-15',\n",
        "    'Nacionalidad': 'Nacionalidad2',\n",
        "    'Experiencia': 6000,\n",
        "    'Contacto': 'piloto2@example.com',\n",
        "    'Fecha_de_Contratacion': '2023-02-20',\n",
        "    'Salario': 55000.00,\n",
        "    'Estado_de_Empleo': 'Empleado'\n",
        "}\n",
        "\n",
        "piloto3 = {\n",
        "    'Nombre': 'Piloto 3',\n",
        "    'Numero_de_Licencia': 'Licencia3',\n",
        "    'Fecha_de_Nacimiento': '1992-07-10',\n",
        "    'Nacionalidad': 'Nacionalidad3',\n",
        "    'Experiencia': 4500,\n",
        "    'Contacto': 'piloto3@example.com',\n",
        "    'Fecha_de_Contratacion': '2023-03-25',\n",
        "    'Salario': 48000.00,\n",
        "    'Estado_de_Empleo': 'Empleado'\n",
        "}\n",
        "\n",
        "# Consulta SQL para insertar pilotos\n",
        "insertar_piloto = \"\"\"\n",
        "INSERT INTO pilotos (Nombre, Numero_de_Licencia, Fecha_de_Nacimiento, Nacionalidad, Experiencia, Contacto,\n",
        "                    Fecha_de_Contratacion, Salario, Estado_de_Empleo)\n",
        "VALUES (%(Nombre)s, %(Numero_de_Licencia)s, %(Fecha_de_Nacimiento)s, %(Nacionalidad)s, %(Experiencia)s,\n",
        "        %(Contacto)s, %(Fecha_de_Contratacion)s, %(Salario)s, %(Estado_de_Empleo)s);\n",
        "\"\"\"\n",
        "\n",
        "# Insertar los pilotos uno por uno\n",
        "cursor.execute(insertar_piloto, piloto1)\n",
        "cursor.execute(insertar_piloto, piloto2)\n",
        "cursor.execute(insertar_piloto, piloto3)\n",
        "\n",
        "# Confirmar la transacción\n",
        "conexion.commit()\n",
        "\n",
        "print(\"Los pilotos han sido insertados exitosamente en la tabla pilotos.\")"
      ]
    },
    {
      "cell_type": "markdown",
      "id": "66668455",
      "metadata": {
        "id": "66668455"
      },
      "source": [
        "# Inserta al menos tres vuelos en la tabla vuelos (executemany) y posteriormente muestra la tabla vuelos por pantalla"
      ]
    },
    {
      "cell_type": "code",
      "execution_count": null,
      "id": "a03957c2",
      "metadata": {
        "id": "a03957c2",
        "outputId": "2db96fb0-aed2-4746-ac5f-b949a499025d"
      },
      "outputs": [
        {
          "name": "stdout",
          "output_type": "stream",
          "text": [
            "Los vuelos han sido insertados exitosamente en la tabla vuelos.\n"
          ]
        }
      ],
      "source": [
        "# Datos de los vuelos que deseas insertar\n",
        "vuelo1 = {\n",
        "    'numero_vuelo': 1,\n",
        "    'origen': 'Ciudad A',\n",
        "    'destino': 'Ciudad B',\n",
        "    'fecha_salida': '2023-10-10 08:00:00',\n",
        "    'fecha_llegada': '2023-10-10 10:00:00',\n",
        "    'duracion_total_minutos': 120,\n",
        "    'tiene_escala': False,\n",
        "    'duracion_escala_minutos': None,\n",
        "    'compania_operadora': 'Compañía X',\n",
        "    'num_pasajeros': 100,\n",
        "    'num_plazas_libres': 50,\n",
        "    'id_piloto': 1  # Reemplaza con el ID de un piloto existente en la tabla pilotos\n",
        "}\n",
        "\n",
        "vuelo2 = {\n",
        "    'numero_vuelo': 2,\n",
        "    'origen': 'Ciudad B',\n",
        "    'destino': 'Ciudad C',\n",
        "    'fecha_salida': '2023-10-11 09:00:00',\n",
        "    'fecha_llegada': '2023-10-11 11:30:00',\n",
        "    'duracion_total_minutos': 150,\n",
        "    'tiene_escala': True,\n",
        "    'duracion_escala_minutos': 60,\n",
        "    'compania_operadora': 'Compañía Y',\n",
        "    'num_pasajeros': 120,\n",
        "    'num_plazas_libres': 30,\n",
        "    'id_piloto': 2\n",
        "}\n",
        "\n",
        "vuelo3 = {\n",
        "    'numero_vuelo': 3,\n",
        "    'origen': 'Ciudad C',\n",
        "    'destino': 'Ciudad A',\n",
        "    'fecha_salida': '2023-10-12 14:00:00',\n",
        "    'fecha_llegada': '2023-10-12 16:30:00',\n",
        "    'duracion_total_minutos': 150,\n",
        "    'tiene_escala': False,\n",
        "    'duracion_escala_minutos': None,\n",
        "    'compania_operadora': 'Compañía Z',\n",
        "    'num_pasajeros': 80,\n",
        "    'num_plazas_libres': 70,\n",
        "    'id_piloto': 1\n",
        "}\n",
        "\n",
        "# Lista de vuelos a insertar\n",
        "vuelos_a_insertar = [vuelo1, vuelo2, vuelo3]\n",
        "\n",
        "# Consultas SQL para insertar los vuelos\n",
        "insertar_vuelo = \"\"\"\n",
        "INSERT INTO vuelos (numero_vuelo, origen, destino, fecha_salida, fecha_llegada, duracion_total_minutos,\n",
        "                    tiene_escala, duracion_escala_minutos, compania_operadora, num_pasajeros, num_plazas_libres, id_piloto)\n",
        "VALUES (%(numero_vuelo)s, %(origen)s, %(destino)s, %(fecha_salida)s, %(fecha_llegada)s, %(duracion_total_minutos)s,\n",
        "        %(tiene_escala)s, %(duracion_escala_minutos)s, %(compania_operadora)s, %(num_pasajeros)s, %(num_plazas_libres)s, %(id_piloto)s);\n",
        "\"\"\"\n",
        "\n",
        "# Insertar múltiples vuelos utilizando executemany\n",
        "cursor.executemany(insertar_vuelo, vuelos_a_insertar)\n",
        "\n",
        "# Confirmar la transacción\n",
        "conexion.commit()\n",
        "\n",
        "print(\"Los vuelos han sido insertados exitosamente en la tabla vuelos.\")"
      ]
    },
    {
      "cell_type": "code",
      "execution_count": null,
      "id": "b48a56c4",
      "metadata": {
        "id": "b48a56c4",
        "outputId": "4a514ca0-a92f-432e-d794-bdc8e3391e74"
      },
      "outputs": [
        {
          "name": "stdout",
          "output_type": "stream",
          "text": [
            "(1, 'Ciudad A', 'Ciudad B', datetime.datetime(2023, 10, 10, 8, 0), datetime.datetime(2023, 10, 10, 10, 0), 120, 0, None, 'Compañía X', 100, 50, 1, None)\n",
            "(2, 'Ciudad B', 'Ciudad C', datetime.datetime(2023, 10, 11, 9, 0), datetime.datetime(2023, 10, 11, 11, 30), 150, 1, 60, 'Compañía Y', 120, 30, 2, None)\n",
            "(3, 'Ciudad C', 'Ciudad A', datetime.datetime(2023, 10, 12, 14, 0), datetime.datetime(2023, 10, 12, 16, 30), 150, 0, None, 'Compañía Z', 80, 70, 1, None)\n"
          ]
        }
      ],
      "source": [
        "# Consulta SQL para seleccionar todos los vuelos\n",
        "seleccionar_vuelos = \"SELECT * FROM vuelos\"\n",
        "\n",
        "# Ejecutar la consulta SQL\n",
        "cursor.execute(seleccionar_vuelos)\n",
        "\n",
        "# Obtener todos los registros de la consulta\n",
        "registros = cursor.fetchall()\n",
        "\n",
        "# Imprimir los registros por pantalla\n",
        "for registro in registros:\n",
        "    print(registro)"
      ]
    },
    {
      "cell_type": "markdown",
      "id": "c1f1d2a0",
      "metadata": {
        "id": "c1f1d2a0"
      },
      "source": [
        "# Dado que olvidamos añadir el tipo de vuelo debemos actualizar los datos para esa columna de la tabla vuelos (asumiremos que todos los vuelos son de salida)"
      ]
    },
    {
      "cell_type": "code",
      "execution_count": null,
      "id": "4b76266d",
      "metadata": {
        "id": "4b76266d",
        "outputId": "69323e0e-192f-47cf-a802-4c9dcac196b8"
      },
      "outputs": [
        {
          "data": {
            "text/plain": [
              "3"
            ]
          },
          "execution_count": 31,
          "metadata": {},
          "output_type": "execute_result"
        }
      ],
      "source": [
        "# Consulta SQL para actualizar el tipo de vuelo para cada vuelo\n",
        "actualizar_tipo_de_vuelo = \"\"\"\n",
        "UPDATE vuelos\n",
        "SET tipo_vuelo = 'Salida';\n",
        "\"\"\"\n",
        "\n",
        "# Ejecutar la consulta SQL de actualización\n",
        "cursor.execute(actualizar_tipo_de_vuelo)"
      ]
    },
    {
      "cell_type": "markdown",
      "id": "4fd90242",
      "metadata": {
        "id": "4fd90242"
      },
      "source": [
        "# Muestra la duración media de los vuelos operados por el piloto 1"
      ]
    },
    {
      "cell_type": "code",
      "execution_count": null,
      "id": "3fe4c2b2",
      "metadata": {
        "id": "3fe4c2b2",
        "outputId": "ca69a6d2-702d-4d60-f156-91d9f22e8c85"
      },
      "outputs": [
        {
          "data": {
            "text/plain": [
              "Decimal('135.0000')"
            ]
          },
          "execution_count": 33,
          "metadata": {},
          "output_type": "execute_result"
        }
      ],
      "source": [
        "# Consulta SQL para calcular la duración media de los vuelos operados por el piloto 1\n",
        "consulta_duracion_media = \"\"\"\n",
        "SELECT AVG(duracion_total_minutos)\n",
        "FROM vuelos\n",
        "WHERE id_piloto = 1;\n",
        "\"\"\"\n",
        "\n",
        "# Ejecutar la consulta SQL\n",
        "cursor.execute(consulta_duracion_media)\n",
        "\n",
        "# Obtener el resultado de la consulta\n",
        "cursor.fetchone()[0]"
      ]
    },
    {
      "cell_type": "markdown",
      "id": "abbcb85e",
      "metadata": {
        "id": "abbcb85e"
      },
      "source": [
        "# Elimina al piloto 3 de la tabla pilotos"
      ]
    },
    {
      "cell_type": "code",
      "execution_count": null,
      "id": "fe28ec5f",
      "metadata": {
        "id": "fe28ec5f"
      },
      "outputs": [],
      "source": [
        "# ID del piloto que deseas eliminar\n",
        "id_piloto_a_eliminar = 3\n",
        "\n",
        "# Consulta SQL para eliminar el piloto\n",
        "eliminar_piloto = \"\"\"\n",
        "DELETE FROM pilotos\n",
        "WHERE ID_Piloto = %s;\n",
        "\"\"\"\n",
        "\n",
        "# Ejecutar la consulta SQL de eliminación\n",
        "cursor.execute(eliminar_piloto, (id_piloto_a_eliminar,))\n",
        "\n",
        "# Confirmar la transacción\n",
        "conexion.commit()"
      ]
    },
    {
      "cell_type": "markdown",
      "id": "c3e86bb6",
      "metadata": {
        "id": "c3e86bb6"
      },
      "source": [
        "# Muestra los identificadores de los vuelos junto a toda la información de sus pilotos (usa join)"
      ]
    },
    {
      "cell_type": "code",
      "execution_count": null,
      "id": "d850b0f8",
      "metadata": {
        "id": "d850b0f8",
        "outputId": "5eb1e55a-0703-46db-a2de-49965832d86e"
      },
      "outputs": [
        {
          "name": "stdout",
          "output_type": "stream",
          "text": [
            "ID de Vuelo: 1\n",
            "Información del Piloto:\n",
            "  ID del Piloto: 1\n",
            "  Nombre: Piloto 1\n",
            "  Número de Licencia: Licencia1\n",
            "  Fecha de Nacimiento: 1990-01-01\n",
            "  Nacionalidad: Nacionalidad1\n",
            "  Experiencia: 5000\n",
            "  Contacto: piloto1@example.com\n",
            "  Fecha de Contratación: 2023-01-15\n",
            "  Salario: 50000.00\n",
            "  Estado de Empleo: Empleado\n",
            "----------------------------------------\n",
            "ID de Vuelo: 3\n",
            "Información del Piloto:\n",
            "  ID del Piloto: 1\n",
            "  Nombre: Piloto 1\n",
            "  Número de Licencia: Licencia1\n",
            "  Fecha de Nacimiento: 1990-01-01\n",
            "  Nacionalidad: Nacionalidad1\n",
            "  Experiencia: 5000\n",
            "  Contacto: piloto1@example.com\n",
            "  Fecha de Contratación: 2023-01-15\n",
            "  Salario: 50000.00\n",
            "  Estado de Empleo: Empleado\n",
            "----------------------------------------\n",
            "ID de Vuelo: 2\n",
            "Información del Piloto:\n",
            "  ID del Piloto: 2\n",
            "  Nombre: Piloto 2\n",
            "  Número de Licencia: Licencia2\n",
            "  Fecha de Nacimiento: 1985-03-15\n",
            "  Nacionalidad: Nacionalidad2\n",
            "  Experiencia: 6000\n",
            "  Contacto: piloto2@example.com\n",
            "  Fecha de Contratación: 2023-02-20\n",
            "  Salario: 55000.00\n",
            "  Estado de Empleo: Empleado\n",
            "----------------------------------------\n"
          ]
        }
      ],
      "source": [
        "# Consulta SQL para obtener los identificadores de vuelos y la información de los pilotos usando JOIN\n",
        "consulta_join = \"\"\"\n",
        "SELECT vuelos.numero_vuelo, pilotos.*\n",
        "FROM vuelos\n",
        "INNER JOIN pilotos ON vuelos.id_piloto = pilotos.ID_Piloto;\n",
        "\"\"\"\n",
        "\n",
        "# Ejecutar la consulta SQL con JOIN\n",
        "cursor.execute(consulta_join)\n",
        "\n",
        "# Obtener los resultados de la consulta\n",
        "resultados = cursor.fetchall()\n",
        "\n",
        "# Mostrar los resultados por pantalla\n",
        "for fila in resultados:\n",
        "    print(f\"ID de Vuelo: {fila[0]}\")\n",
        "    print(f\"Información del Piloto:\")\n",
        "    print(f\"  ID del Piloto: {fila[1]}\")\n",
        "    print(f\"  Nombre: {fila[2]}\")\n",
        "    print(f\"  Número de Licencia: {fila[3]}\")\n",
        "    print(f\"  Fecha de Nacimiento: {fila[4]}\")\n",
        "    print(f\"  Nacionalidad: {fila[5]}\")\n",
        "    print(f\"  Experiencia: {fila[6]}\")\n",
        "    print(f\"  Contacto: {fila[7]}\")\n",
        "    print(f\"  Fecha de Contratación: {fila[8]}\")\n",
        "    print(f\"  Salario: {fila[9]}\")\n",
        "    print(f\"  Estado de Empleo: {fila[10]}\")\n",
        "    print(\"-\" * 40)"
      ]
    },
    {
      "cell_type": "markdown",
      "id": "783a1c2a",
      "metadata": {
        "id": "783a1c2a"
      },
      "source": [
        "# Elimina la columna Nacionalidad de la tabla pilotos"
      ]
    },
    {
      "cell_type": "code",
      "execution_count": null,
      "id": "bfa845c9",
      "metadata": {
        "id": "bfa845c9"
      },
      "outputs": [],
      "source": [
        "# Consulta SQL para eliminar la columna Nacionalidad de la tabla pilotos\n",
        "eliminar_columna_nacionalidad = \"\"\"\n",
        "ALTER TABLE pilotos\n",
        "DROP COLUMN Nacionalidad;\n",
        "\"\"\"\n",
        "\n",
        "# Ejecutar la consulta SQL para eliminar la columna\n",
        "cursor.execute(eliminar_columna_nacionalidad)\n",
        "\n",
        "# Confirmar la transacción\n",
        "conexion.commit()"
      ]
    },
    {
      "cell_type": "markdown",
      "id": "269bc98c",
      "metadata": {
        "id": "269bc98c"
      },
      "source": [
        "# Crea un dataframe de pandas y almacénalo como una tabla dentro de la base de datos"
      ]
    },
    {
      "cell_type": "code",
      "execution_count": null,
      "id": "39720db9",
      "metadata": {
        "id": "39720db9",
        "outputId": "39e71efe-af9c-4f43-a147-72a7a6d0154b"
      },
      "outputs": [
        {
          "name": "stdout",
          "output_type": "stream",
          "text": [
            "El DataFrame ha sido almacenado como una nueva tabla en la base de datos.\n"
          ]
        }
      ],
      "source": [
        "import pandas as pd\n",
        "from sqlalchemy import create_engine\n",
        "\n",
        "# Crear un DataFrame de pandas\n",
        "data = {\n",
        "    'ID_Piloto': [1, 2, 3],\n",
        "    'Nombre': ['Piloto 1', 'Piloto 2', 'Piloto 3'],\n",
        "    'Numero_de_Licencia': ['Licencia1', 'Licencia2', 'Licencia3'],\n",
        "    'Fecha_de_Nacimiento': ['1990-01-01', '1985-03-15', '1995-07-10'],\n",
        "}\n",
        "\n",
        "df = pd.DataFrame(data)\n",
        "\n",
        "# Utilizar SQLAlchemy para crear un motor de conexión\n",
        "engine = create_engine(f\"mysql+pymysql://{usuario}:{pwd}@{host}/{nombre_base_de_datos}\")\n",
        "\n",
        "# Insertar el DataFrame en la base de datos como una tabla llamada 'nueva_tabla_pilotos'\n",
        "df.to_sql('nueva_tabla_pilotos', con=engine, if_exists='replace', index=False)\n",
        "\n",
        "# Confirmar la transacción\n",
        "conexion.commit()\n",
        "\n",
        "# Cerrar la conexión\n",
        "conexion.close()\n",
        "\n",
        "print(\"El DataFrame ha sido almacenado como una nueva tabla en la base de datos.\")"
      ]
    },
    {
      "cell_type": "markdown",
      "id": "e8119c69",
      "metadata": {
        "id": "e8119c69"
      },
      "source": [
        "Hemos visto:\n",
        "\n",
        "-CREATE\n",
        "\n",
        "-ALTER\n",
        "\n",
        "-DROP\n",
        "\n",
        "-SELECT\n",
        "\n",
        "-INSERT\n",
        "\n",
        "-UPDATE\n",
        "\n",
        "-DELETE\n",
        "\n",
        "-COMMIT\n",
        "\n",
        "-JOIN\n",
        "\n",
        "-AVG\n",
        "\n",
        "-td_sql"
      ]
    }
  ],
  "metadata": {
    "kernelspec": {
      "display_name": "Python 3 (ipykernel)",
      "language": "python",
      "name": "python3"
    },
    "language_info": {
      "codemirror_mode": {
        "name": "ipython",
        "version": 3
      },
      "file_extension": ".py",
      "mimetype": "text/x-python",
      "name": "python",
      "nbconvert_exporter": "python",
      "pygments_lexer": "ipython3",
      "version": "3.9.12"
    },
    "colab": {
      "provenance": []
    }
  },
  "nbformat": 4,
  "nbformat_minor": 5
}